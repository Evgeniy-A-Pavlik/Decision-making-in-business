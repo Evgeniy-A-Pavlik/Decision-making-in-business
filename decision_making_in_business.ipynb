{
  "cells": [
    {
      "cell_type": "code",
      "execution_count": null,
      "metadata": {
        "cellId": "jdvarx8gtodio7hcqpdcw",
        "id": "7Gu8sLyJvz23",
        "outputId": "35b6e7ef-7829-4e5b-b0b8-de59498faf74"
      },
      "outputs": [
        {
          "name": "stdout",
          "output_type": "stream",
          "text": [
            "\u001b[33mWARNING: You are using pip version 21.0.1; however, version 22.0.4 is available.\n",
            "You should consider upgrading via the '/usr/local/bin/python3 -m pip install --upgrade pip' command.\u001b[0m\n"
          ]
        }
      ],
      "source": [
        "#%pip install -q -r requirements.txt"
      ]
    },
    {
      "cell_type": "markdown",
      "metadata": {
        "cellId": "i009kn6zbsqq28gk5fccum",
        "id": "jaezFCSCvz3B"
      },
      "source": [
        "# Принятие решений в бизнесе"
      ]
    },
    {
      "cell_type": "markdown",
      "metadata": {
        "cellId": "vjfix7bculhr1lajl69ln",
        "id": "wDHWOmt8vz3L"
      },
      "source": [
        "## Описание проекта\n",
        "Вместе с отделом маркетинга мы подготовили список гипотез для увеличения выручки.\\\n",
        "Приоритизируем гипотезы, запустим A/B-тест и проанализируем результаты."
      ]
    },
    {
      "cell_type": "markdown",
      "metadata": {
        "cellId": "dvpg7wr8jzpvhbt3myt5cd",
        "id": "1fG3rIC-vz3L"
      },
      "source": [
        "## Описание данных\n",
        "### Данные для первой части\n",
        "Файл **hypothesis.csv**\n",
        "- `Hypothesis` — краткое описание гипотезы;\n",
        "- `Reach` — охват пользователей по 10-балльной шкале;\n",
        "- `Impact` — влияние на пользователей по 10-балльной шкале;\n",
        "- `Confidence` — уверенность в гипотезе по 10-балльной шкале;\n",
        "- `Efforts` — затраты ресурсов на проверку гипотезы по 10-балльной шкале. Чем больше значение Efforts, тем дороже проверка гипотезы.\n",
        "\n",
        "### Данные для второй части\n",
        "Файл **orders.csv**\n",
        "- `transactionId` — идентификатор заказа;\n",
        "- `visitorId` — идентификатор пользователя, совершившего заказ;\n",
        "- `date` — дата, когда был совершён заказ;\n",
        "- `revenue` — выручка заказа;\n",
        "- `group` — группа A/B-теста, в которую попал заказ.\n",
        "\n",
        "Файл **visitors.csv**\n",
        "- `date` — дата;\n",
        "- `group` — группа A/B-теста;\n",
        "- `visitors` — количество пользователей в указанную дату в указанной группе A/B-теста"
      ]
    },
    {
      "cell_type": "markdown",
      "metadata": {
        "cellId": "r3xfc3xq4kzustmsv3r1s",
        "id": "INvlTqmdvz3L"
      },
      "source": [
        "## Содержание\n",
        "- <a id=\"Загрузка-данных-и-подготовка-их-к-анализу\"></a>[1. Загрузка данных и подготовка их к анализу](#1.-Загрузка-данных-и-подготовка-их-к-анализу)\n",
        "- <a id=\"Часть 1. Приоритизация-гипотез\"></a>[2. Часть 1. Приоритизация гипотез](#2.-Часть-1.-Приоритизация-гипотез)\n",
        "- <a id=\"Часть 2. Анализ-A/B-теста\"></a>[3. Часть 2. Анализ A/B-теста](#3.-Часть-2.-Анализ-A/B-теста)\n",
        "- <a id=\"Выводы\"></a>[4. Выводы](#4.-Выводы)"
      ]
    },
    {
      "cell_type": "code",
      "execution_count": null,
      "metadata": {
        "cellId": "0sd5nicokvvq8ogvt6xs5k2",
        "id": "JPH4YJejvz3L"
      },
      "outputs": [],
      "source": [
        "import pandas as pd\n",
        "import datetime as dt\n",
        "import numpy as np\n",
        "import matplotlib.pyplot as plt\n",
        "import scipy.stats as stats\n",
        "import warnings\n",
        "pd.set_option('display.max_colwidth', 150)"
      ]
    },
    {
      "cell_type": "markdown",
      "metadata": {
        "cellId": "yz8yrx0m6zqmk1xvjd5g1",
        "id": "cG69hvDMvz3V"
      },
      "source": [
        "## 1. Загрузка данных и подготовка их к анализу"
      ]
    },
    {
      "cell_type": "markdown",
      "metadata": {
        "cellId": "r62j5l1v8xl55vji4darq",
        "id": "fh2fLTs7vz3V"
      },
      "source": [
        "Загрузим данные"
      ]
    },
    {
      "cell_type": "code",
      "execution_count": null,
      "metadata": {
        "cellId": "0flsd92lhj0vxwmtwwy5kxj",
        "id": "b5KueRtVvz3V"
      },
      "outputs": [],
      "source": [
        "hypothesis = pd.read_csv('/datasets/hypothesis.csv')\n",
        "orders = pd.read_csv('/datasets/orders.csv')\n",
        "visitors = pd.read_csv('/datasets/visitors.csv')"
      ]
    },
    {
      "cell_type": "markdown",
      "metadata": {
        "cellId": "ahujnjcqpbosnws20ya3rf",
        "id": "5w7TJj2lvz3f"
      },
      "source": [
        "Посмотрим данные о гипотезах"
      ]
    },
    {
      "cell_type": "code",
      "execution_count": null,
      "metadata": {
        "cellId": "wk9app4ekbqdsw6qsrgh",
        "id": "8PelRFhKvz3f",
        "outputId": "9f07b806-a4ab-443d-8040-bd8777400e01"
      },
      "outputs": [
        {
          "data": {
            "text/html": [
              "<div>\n",
              "<style scoped>\n",
              "    .dataframe tbody tr th:only-of-type {\n",
              "        vertical-align: middle;\n",
              "    }\n",
              "\n",
              "    .dataframe tbody tr th {\n",
              "        vertical-align: top;\n",
              "    }\n",
              "\n",
              "    .dataframe thead th {\n",
              "        text-align: right;\n",
              "    }\n",
              "</style>\n",
              "<table border=\"1\" class=\"dataframe\">\n",
              "  <thead>\n",
              "    <tr style=\"text-align: right;\">\n",
              "      <th></th>\n",
              "      <th>Hypothesis</th>\n",
              "      <th>Reach</th>\n",
              "      <th>Impact</th>\n",
              "      <th>Confidence</th>\n",
              "      <th>Efforts</th>\n",
              "    </tr>\n",
              "  </thead>\n",
              "  <tbody>\n",
              "    <tr>\n",
              "      <td>0</td>\n",
              "      <td>Добавить два новых канала привлечения трафика, что позволит привлекать на 30% больше пользователей</td>\n",
              "      <td>3</td>\n",
              "      <td>10</td>\n",
              "      <td>8</td>\n",
              "      <td>6</td>\n",
              "    </tr>\n",
              "    <tr>\n",
              "      <td>1</td>\n",
              "      <td>Запустить собственную службу доставки, что сократит срок доставки заказов</td>\n",
              "      <td>2</td>\n",
              "      <td>5</td>\n",
              "      <td>4</td>\n",
              "      <td>10</td>\n",
              "    </tr>\n",
              "    <tr>\n",
              "      <td>2</td>\n",
              "      <td>Добавить блоки рекомендаций товаров на сайт интернет магазина, чтобы повысить конверсию и средний чек заказа</td>\n",
              "      <td>8</td>\n",
              "      <td>3</td>\n",
              "      <td>7</td>\n",
              "      <td>3</td>\n",
              "    </tr>\n",
              "    <tr>\n",
              "      <td>3</td>\n",
              "      <td>Изменить структура категорий, что увеличит конверсию, т.к. пользователи быстрее найдут нужный товар</td>\n",
              "      <td>8</td>\n",
              "      <td>3</td>\n",
              "      <td>3</td>\n",
              "      <td>8</td>\n",
              "    </tr>\n",
              "    <tr>\n",
              "      <td>4</td>\n",
              "      <td>Изменить цвет фона главной страницы, чтобы увеличить вовлеченность пользователей</td>\n",
              "      <td>3</td>\n",
              "      <td>1</td>\n",
              "      <td>1</td>\n",
              "      <td>1</td>\n",
              "    </tr>\n",
              "    <tr>\n",
              "      <td>5</td>\n",
              "      <td>Добавить страницу отзывов клиентов о магазине, что позволит увеличить количество заказов</td>\n",
              "      <td>3</td>\n",
              "      <td>2</td>\n",
              "      <td>2</td>\n",
              "      <td>3</td>\n",
              "    </tr>\n",
              "    <tr>\n",
              "      <td>6</td>\n",
              "      <td>Показать на главной странице баннеры с актуальными акциями и распродажами, чтобы увеличить конверсию</td>\n",
              "      <td>5</td>\n",
              "      <td>3</td>\n",
              "      <td>8</td>\n",
              "      <td>3</td>\n",
              "    </tr>\n",
              "    <tr>\n",
              "      <td>7</td>\n",
              "      <td>Добавить форму подписки на все основные страницы, чтобы собрать базу клиентов для email-рассылок</td>\n",
              "      <td>10</td>\n",
              "      <td>7</td>\n",
              "      <td>8</td>\n",
              "      <td>5</td>\n",
              "    </tr>\n",
              "    <tr>\n",
              "      <td>8</td>\n",
              "      <td>Запустить акцию, дающую скидку на товар в день рождения</td>\n",
              "      <td>1</td>\n",
              "      <td>9</td>\n",
              "      <td>9</td>\n",
              "      <td>5</td>\n",
              "    </tr>\n",
              "  </tbody>\n",
              "</table>\n",
              "</div>"
            ],
            "text/plain": [
              "                                                                                                     Hypothesis  \\\n",
              "0            Добавить два новых канала привлечения трафика, что позволит привлекать на 30% больше пользователей   \n",
              "1                                     Запустить собственную службу доставки, что сократит срок доставки заказов   \n",
              "2  Добавить блоки рекомендаций товаров на сайт интернет магазина, чтобы повысить конверсию и средний чек заказа   \n",
              "3           Изменить структура категорий, что увеличит конверсию, т.к. пользователи быстрее найдут нужный товар   \n",
              "4                              Изменить цвет фона главной страницы, чтобы увеличить вовлеченность пользователей   \n",
              "5                      Добавить страницу отзывов клиентов о магазине, что позволит увеличить количество заказов   \n",
              "6          Показать на главной странице баннеры с актуальными акциями и распродажами, чтобы увеличить конверсию   \n",
              "7              Добавить форму подписки на все основные страницы, чтобы собрать базу клиентов для email-рассылок   \n",
              "8                                                       Запустить акцию, дающую скидку на товар в день рождения   \n",
              "\n",
              "   Reach  Impact  Confidence  Efforts  \n",
              "0      3      10           8        6  \n",
              "1      2       5           4       10  \n",
              "2      8       3           7        3  \n",
              "3      8       3           3        8  \n",
              "4      3       1           1        1  \n",
              "5      3       2           2        3  \n",
              "6      5       3           8        3  \n",
              "7     10       7           8        5  \n",
              "8      1       9           9        5  "
            ]
          },
          "metadata": {},
          "output_type": "display_data"
        },
        {
          "name": "stdout",
          "output_type": "stream",
          "text": [
            "<class 'pandas.core.frame.DataFrame'>\n",
            "RangeIndex: 9 entries, 0 to 8\n",
            "Data columns (total 5 columns):\n",
            "Hypothesis    9 non-null object\n",
            "Reach         9 non-null int64\n",
            "Impact        9 non-null int64\n",
            "Confidence    9 non-null int64\n",
            "Efforts       9 non-null int64\n",
            "dtypes: int64(4), object(1)\n",
            "memory usage: 488.0+ bytes\n"
          ]
        }
      ],
      "source": [
        "display(hypothesis)\n",
        "hypothesis.info()"
      ]
    },
    {
      "cell_type": "markdown",
      "metadata": {
        "cellId": "j78bzw3bm6n8832mo1r3z",
        "id": "xFAZx9nlvz3f"
      },
      "source": [
        "Данные о гипотезах корректны, тип данных соответствующий, пропуски и дубликаты отсутствуют."
      ]
    },
    {
      "cell_type": "markdown",
      "metadata": {
        "cellId": "0g8yajzqmejt07e5tpycx8go",
        "id": "7S9IEFQyvz3f"
      },
      "source": [
        "Посмотрим данные о заказах"
      ]
    },
    {
      "cell_type": "code",
      "execution_count": null,
      "metadata": {
        "cellId": "8gfhipcg7y4doyhdxaf0su",
        "id": "ot2icobkvz3f",
        "outputId": "9c2d58f5-15d4-4c3b-da8d-1b143db89bb7"
      },
      "outputs": [
        {
          "data": {
            "text/html": [
              "<div>\n",
              "<style scoped>\n",
              "    .dataframe tbody tr th:only-of-type {\n",
              "        vertical-align: middle;\n",
              "    }\n",
              "\n",
              "    .dataframe tbody tr th {\n",
              "        vertical-align: top;\n",
              "    }\n",
              "\n",
              "    .dataframe thead th {\n",
              "        text-align: right;\n",
              "    }\n",
              "</style>\n",
              "<table border=\"1\" class=\"dataframe\">\n",
              "  <thead>\n",
              "    <tr style=\"text-align: right;\">\n",
              "      <th></th>\n",
              "      <th>transactionId</th>\n",
              "      <th>visitorId</th>\n",
              "      <th>date</th>\n",
              "      <th>revenue</th>\n",
              "      <th>group</th>\n",
              "    </tr>\n",
              "  </thead>\n",
              "  <tbody>\n",
              "    <tr>\n",
              "      <td>0</td>\n",
              "      <td>3667963787</td>\n",
              "      <td>3312258926</td>\n",
              "      <td>2019-08-15</td>\n",
              "      <td>1650</td>\n",
              "      <td>B</td>\n",
              "    </tr>\n",
              "    <tr>\n",
              "      <td>1</td>\n",
              "      <td>2804400009</td>\n",
              "      <td>3642806036</td>\n",
              "      <td>2019-08-15</td>\n",
              "      <td>730</td>\n",
              "      <td>B</td>\n",
              "    </tr>\n",
              "    <tr>\n",
              "      <td>2</td>\n",
              "      <td>2961555356</td>\n",
              "      <td>4069496402</td>\n",
              "      <td>2019-08-15</td>\n",
              "      <td>400</td>\n",
              "      <td>A</td>\n",
              "    </tr>\n",
              "    <tr>\n",
              "      <td>3</td>\n",
              "      <td>3797467345</td>\n",
              "      <td>1196621759</td>\n",
              "      <td>2019-08-15</td>\n",
              "      <td>9759</td>\n",
              "      <td>B</td>\n",
              "    </tr>\n",
              "    <tr>\n",
              "      <td>4</td>\n",
              "      <td>2282983706</td>\n",
              "      <td>2322279887</td>\n",
              "      <td>2019-08-15</td>\n",
              "      <td>2308</td>\n",
              "      <td>B</td>\n",
              "    </tr>\n",
              "  </tbody>\n",
              "</table>\n",
              "</div>"
            ],
            "text/plain": [
              "   transactionId   visitorId        date  revenue group\n",
              "0     3667963787  3312258926  2019-08-15     1650     B\n",
              "1     2804400009  3642806036  2019-08-15      730     B\n",
              "2     2961555356  4069496402  2019-08-15      400     A\n",
              "3     3797467345  1196621759  2019-08-15     9759     B\n",
              "4     2282983706  2322279887  2019-08-15     2308     B"
            ]
          },
          "metadata": {},
          "output_type": "display_data"
        },
        {
          "name": "stdout",
          "output_type": "stream",
          "text": [
            "<class 'pandas.core.frame.DataFrame'>\n",
            "RangeIndex: 1197 entries, 0 to 1196\n",
            "Data columns (total 5 columns):\n",
            "transactionId    1197 non-null int64\n",
            "visitorId        1197 non-null int64\n",
            "date             1197 non-null object\n",
            "revenue          1197 non-null int64\n",
            "group            1197 non-null object\n",
            "dtypes: int64(3), object(2)\n",
            "memory usage: 46.9+ KB\n"
          ]
        }
      ],
      "source": [
        "display(orders.head())\n",
        "orders.info()"
      ]
    },
    {
      "cell_type": "markdown",
      "metadata": {
        "cellId": "zzufc4xjoz4x8qamp6v03",
        "id": "usGGEUgCvz3f"
      },
      "source": [
        "Столбец `date` приведем к формату datetime, проверим отсутствие пропусков и дубликатов"
      ]
    },
    {
      "cell_type": "code",
      "execution_count": null,
      "metadata": {
        "cellId": "99ys0wpzc6k6aks3jfinf6",
        "id": "6ay0e_AIvz3f"
      },
      "outputs": [],
      "source": [
        "orders['date'] = orders['date'].map(\n",
        "    lambda x: dt.datetime.strptime(x, '%Y-%m-%d'))"
      ]
    },
    {
      "cell_type": "code",
      "execution_count": null,
      "metadata": {
        "cellId": "4e6f408jyglomivg8g1kqn",
        "id": "jfTYq181vz3f",
        "outputId": "937bc17e-2d24-4c11-d44b-fd14bc08a6c0"
      },
      "outputs": [
        {
          "name": "stdout",
          "output_type": "stream",
          "text": [
            "Процент пропусков по столбцам\n",
            "\n"
          ]
        },
        {
          "data": {
            "text/plain": [
              "transactionId    0.0\n",
              "visitorId        0.0\n",
              "date             0.0\n",
              "revenue          0.0\n",
              "group            0.0\n",
              "dtype: float64"
            ]
          },
          "metadata": {},
          "output_type": "display_data"
        }
      ],
      "source": [
        "print('Процент пропусков по столбцам')\n",
        "print()\n",
        "round((orders.isna().mean()*100), 2)"
      ]
    },
    {
      "cell_type": "code",
      "execution_count": null,
      "metadata": {
        "cellId": "95o2zh627eo8zct9m5qly3",
        "id": "gkXfAjOVvz3p",
        "outputId": "6efa3f07-116e-4127-85b1-10afa35fb796"
      },
      "outputs": [
        {
          "name": "stdout",
          "output_type": "stream",
          "text": [
            "Количество дубликатов: 0\n"
          ]
        }
      ],
      "source": [
        "print('Количество дубликатов:', orders.duplicated().sum())"
      ]
    },
    {
      "cell_type": "markdown",
      "metadata": {
        "cellId": "9gnjcs7roxhkoa4n67duq",
        "id": "TA-ooTfHvz3r"
      },
      "source": [
        "Проверим таблицу **orders** на пользователей попавших в обе группы"
      ]
    },
    {
      "cell_type": "code",
      "execution_count": null,
      "metadata": {
        "cellId": "jgw10gexdeoafte9f19va",
        "id": "bOYA33EMvz3r",
        "outputId": "5af43833-38e5-4ae3-c4d0-5ddd1492fd6d"
      },
      "outputs": [
        {
          "data": {
            "text/plain": [
              "array([   8300375,  199603092,  232979603,  237748145,  276558944,\n",
              "        351125977,  393266494,  457167155,  471551937,  477780734,\n",
              "        818047933,  963407295, 1230306981, 1294878855, 1316129916,\n",
              "       1333886533, 1404934699, 1602967004, 1614305549, 1648269707,\n",
              "       1668030113, 1738359350, 1801183820, 1959144690, 2038680547,\n",
              "       2044997962, 2378935119, 2458001652, 2579882178, 2587333274,\n",
              "       2600415354, 2654030115, 2686716486, 2712142231, 2716752286,\n",
              "       2780786433, 2927087541, 2949041841, 2954449915, 3062433592,\n",
              "       3202540741, 3234906277, 3656415546, 3717692402, 3766097110,\n",
              "       3803269165, 3891541246, 3941795274, 3951559397, 3957174400,\n",
              "       3963646447, 3972127743, 3984495233, 4069496402, 4120364173,\n",
              "       4186807279, 4256040402, 4266935830])"
            ]
          },
          "metadata": {},
          "output_type": "display_data"
        }
      ],
      "source": [
        "inter = np.intersect1d(orders.query('group == \"A\"')['visitorId'].unique(), orders.query('group == \"B\"')['visitorId'].unique())\n",
        "inter"
      ]
    },
    {
      "cell_type": "markdown",
      "metadata": {
        "cellId": "r2lclm52vcpakveot3ov7v",
        "id": "lnSovQaKvz3s"
      },
      "source": [
        "Удалим этих пользователей"
      ]
    },
    {
      "cell_type": "code",
      "execution_count": null,
      "metadata": {
        "cellId": "jjeu8etzrfezvn7ozrnudj",
        "id": "AC_FKi_cvz3t",
        "outputId": "d80c8483-c6fa-4c22-822e-7759a508cc2f"
      },
      "outputs": [
        {
          "name": "stdout",
          "output_type": "stream",
          "text": [
            "<class 'pandas.core.frame.DataFrame'>\n",
            "RangeIndex: 1016 entries, 0 to 1015\n",
            "Data columns (total 6 columns):\n",
            "index            1016 non-null int64\n",
            "transactionId    1016 non-null int64\n",
            "visitorId        1016 non-null int64\n",
            "date             1016 non-null datetime64[ns]\n",
            "revenue          1016 non-null int64\n",
            "group            1016 non-null object\n",
            "dtypes: datetime64[ns](1), int64(4), object(1)\n",
            "memory usage: 47.8+ KB\n"
          ]
        }
      ],
      "source": [
        "orders = orders[~orders['visitorId'].isin(inter)].reset_index()\n",
        "orders.info()"
      ]
    },
    {
      "cell_type": "markdown",
      "metadata": {
        "cellId": "rocudj7b6wxgnbgpxsn1p",
        "id": "PQPLem5bvz3w"
      },
      "source": [
        "Данные о заказах корректны, тип данных соответствующий, пропуски и дубликаты отсутствуют."
      ]
    },
    {
      "cell_type": "markdown",
      "metadata": {
        "cellId": "n6d3q67m5bd8uln2solaqy",
        "id": "0vc9UR0Ivz3x"
      },
      "source": [
        "Посмотрим данные о количестве пользователей"
      ]
    },
    {
      "cell_type": "code",
      "execution_count": null,
      "metadata": {
        "cellId": "3gekxn8sr68cfwr7xc8vf9",
        "id": "jSRJKQXGvz3y",
        "outputId": "eb7031cc-d2d7-4836-f8e6-019c26624005"
      },
      "outputs": [
        {
          "data": {
            "text/html": [
              "<div>\n",
              "<style scoped>\n",
              "    .dataframe tbody tr th:only-of-type {\n",
              "        vertical-align: middle;\n",
              "    }\n",
              "\n",
              "    .dataframe tbody tr th {\n",
              "        vertical-align: top;\n",
              "    }\n",
              "\n",
              "    .dataframe thead th {\n",
              "        text-align: right;\n",
              "    }\n",
              "</style>\n",
              "<table border=\"1\" class=\"dataframe\">\n",
              "  <thead>\n",
              "    <tr style=\"text-align: right;\">\n",
              "      <th></th>\n",
              "      <th>date</th>\n",
              "      <th>group</th>\n",
              "      <th>visitors</th>\n",
              "    </tr>\n",
              "  </thead>\n",
              "  <tbody>\n",
              "    <tr>\n",
              "      <td>0</td>\n",
              "      <td>2019-08-01</td>\n",
              "      <td>A</td>\n",
              "      <td>719</td>\n",
              "    </tr>\n",
              "    <tr>\n",
              "      <td>1</td>\n",
              "      <td>2019-08-02</td>\n",
              "      <td>A</td>\n",
              "      <td>619</td>\n",
              "    </tr>\n",
              "    <tr>\n",
              "      <td>2</td>\n",
              "      <td>2019-08-03</td>\n",
              "      <td>A</td>\n",
              "      <td>507</td>\n",
              "    </tr>\n",
              "    <tr>\n",
              "      <td>3</td>\n",
              "      <td>2019-08-04</td>\n",
              "      <td>A</td>\n",
              "      <td>717</td>\n",
              "    </tr>\n",
              "    <tr>\n",
              "      <td>4</td>\n",
              "      <td>2019-08-05</td>\n",
              "      <td>A</td>\n",
              "      <td>756</td>\n",
              "    </tr>\n",
              "  </tbody>\n",
              "</table>\n",
              "</div>"
            ],
            "text/plain": [
              "         date group  visitors\n",
              "0  2019-08-01     A       719\n",
              "1  2019-08-02     A       619\n",
              "2  2019-08-03     A       507\n",
              "3  2019-08-04     A       717\n",
              "4  2019-08-05     A       756"
            ]
          },
          "metadata": {},
          "output_type": "display_data"
        },
        {
          "name": "stdout",
          "output_type": "stream",
          "text": [
            "<class 'pandas.core.frame.DataFrame'>\n",
            "RangeIndex: 62 entries, 0 to 61\n",
            "Data columns (total 3 columns):\n",
            "date        62 non-null object\n",
            "group       62 non-null object\n",
            "visitors    62 non-null int64\n",
            "dtypes: int64(1), object(2)\n",
            "memory usage: 1.6+ KB\n"
          ]
        }
      ],
      "source": [
        "display(visitors.head())\n",
        "visitors.info()"
      ]
    },
    {
      "cell_type": "markdown",
      "metadata": {
        "cellId": "jfqdnv8y72tac91fs292l",
        "id": "WzFOcfg0vz3z"
      },
      "source": [
        "Столбец `date` приведем к формату datetime, проверим отсутствие пропусков и дубликатов"
      ]
    },
    {
      "cell_type": "code",
      "execution_count": null,
      "metadata": {
        "cellId": "xshj40eft7e60emksqd13r",
        "id": "Or2CJsk1vz30"
      },
      "outputs": [],
      "source": [
        "visitors['date'] = visitors['date'].map(\n",
        "    lambda x: dt.datetime.strptime(x, '%Y-%m-%d'))"
      ]
    },
    {
      "cell_type": "code",
      "execution_count": null,
      "metadata": {
        "cellId": "wdrva6d4fjidj5r9n2rgfd",
        "id": "WRbeGsRhvz30",
        "outputId": "3965fec4-9aef-4304-cefb-cdae6b6a7b13"
      },
      "outputs": [
        {
          "name": "stdout",
          "output_type": "stream",
          "text": [
            "Процент пропусков по столбцам\n",
            "\n"
          ]
        },
        {
          "data": {
            "text/plain": [
              "date        0.0\n",
              "group       0.0\n",
              "visitors    0.0\n",
              "dtype: float64"
            ]
          },
          "metadata": {},
          "output_type": "display_data"
        }
      ],
      "source": [
        "print('Процент пропусков по столбцам')\n",
        "print()\n",
        "round((visitors.isna().mean()*100), 2)"
      ]
    },
    {
      "cell_type": "code",
      "execution_count": null,
      "metadata": {
        "cellId": "i6bevpz63nfhawjcxca66n",
        "id": "LMxHFpIjvz31",
        "outputId": "2a487b58-7a59-4598-f11a-64351a65bcc7"
      },
      "outputs": [
        {
          "name": "stdout",
          "output_type": "stream",
          "text": [
            "Количество дубликатов: 0\n"
          ]
        }
      ],
      "source": [
        "print('Количество дубликатов:', visitors.duplicated().sum())"
      ]
    },
    {
      "cell_type": "markdown",
      "metadata": {
        "cellId": "lt0pxsaigndbi9vnf538x5",
        "id": "ChbI00p0vz32"
      },
      "source": [
        "Данные о количестве пользователей корректны, тип данных соответствующий, пропуски и дубликаты отсутствуют."
      ]
    },
    {
      "cell_type": "markdown",
      "metadata": {
        "cellId": "zurvb4of355vpvi0izxc",
        "id": "Ds3s6mG-vz33"
      },
      "source": [
        "<div style=\"border:solid green 2px; padding: 20px\"> \n",
        "    \n",
        "**Комментарий ревьюера**\n",
        "\n",
        "**#ок**\n",
        "\n",
        "Данные правильно подготовылены к анализу\n",
        "</div>"
      ]
    },
    {
      "cell_type": "markdown",
      "metadata": {
        "cellId": "ezg9hvzljguuuq43xsmuc",
        "id": "s11DATgovz33"
      },
      "source": [
        "## 2. Часть 1. Приоритизация гипотез"
      ]
    },
    {
      "cell_type": "markdown",
      "metadata": {
        "cellId": "pplqx3w3rf1jz2ldws7jt",
        "id": "Y2BvY1H0vz34"
      },
      "source": [
        "Применим фреймворк ICE для приоритизации гипотез. Отсортируем их по убыванию приоритета."
      ]
    },
    {
      "cell_type": "code",
      "execution_count": null,
      "metadata": {
        "cellId": "angr1dei9vmuocsld75jz",
        "id": "sqFN3vVMvz35",
        "outputId": "65454021-9b11-4107-d51e-adc46159424d"
      },
      "outputs": [
        {
          "data": {
            "text/html": [
              "<div>\n",
              "<style scoped>\n",
              "    .dataframe tbody tr th:only-of-type {\n",
              "        vertical-align: middle;\n",
              "    }\n",
              "\n",
              "    .dataframe tbody tr th {\n",
              "        vertical-align: top;\n",
              "    }\n",
              "\n",
              "    .dataframe thead th {\n",
              "        text-align: right;\n",
              "    }\n",
              "</style>\n",
              "<table border=\"1\" class=\"dataframe\">\n",
              "  <thead>\n",
              "    <tr style=\"text-align: right;\">\n",
              "      <th></th>\n",
              "      <th>Hypothesis</th>\n",
              "      <th>Reach</th>\n",
              "      <th>Impact</th>\n",
              "      <th>Confidence</th>\n",
              "      <th>Efforts</th>\n",
              "      <th>ICE</th>\n",
              "    </tr>\n",
              "  </thead>\n",
              "  <tbody>\n",
              "    <tr>\n",
              "      <td>8</td>\n",
              "      <td>Запустить акцию, дающую скидку на товар в день рождения</td>\n",
              "      <td>1</td>\n",
              "      <td>9</td>\n",
              "      <td>9</td>\n",
              "      <td>5</td>\n",
              "      <td>16.2</td>\n",
              "    </tr>\n",
              "    <tr>\n",
              "      <td>0</td>\n",
              "      <td>Добавить два новых канала привлечения трафика, что позволит привлекать на 30% больше пользователей</td>\n",
              "      <td>3</td>\n",
              "      <td>10</td>\n",
              "      <td>8</td>\n",
              "      <td>6</td>\n",
              "      <td>13.3</td>\n",
              "    </tr>\n",
              "    <tr>\n",
              "      <td>7</td>\n",
              "      <td>Добавить форму подписки на все основные страницы, чтобы собрать базу клиентов для email-рассылок</td>\n",
              "      <td>10</td>\n",
              "      <td>7</td>\n",
              "      <td>8</td>\n",
              "      <td>5</td>\n",
              "      <td>11.2</td>\n",
              "    </tr>\n",
              "    <tr>\n",
              "      <td>6</td>\n",
              "      <td>Показать на главной странице баннеры с актуальными акциями и распродажами, чтобы увеличить конверсию</td>\n",
              "      <td>5</td>\n",
              "      <td>3</td>\n",
              "      <td>8</td>\n",
              "      <td>3</td>\n",
              "      <td>8.0</td>\n",
              "    </tr>\n",
              "    <tr>\n",
              "      <td>2</td>\n",
              "      <td>Добавить блоки рекомендаций товаров на сайт интернет магазина, чтобы повысить конверсию и средний чек заказа</td>\n",
              "      <td>8</td>\n",
              "      <td>3</td>\n",
              "      <td>7</td>\n",
              "      <td>3</td>\n",
              "      <td>7.0</td>\n",
              "    </tr>\n",
              "    <tr>\n",
              "      <td>1</td>\n",
              "      <td>Запустить собственную службу доставки, что сократит срок доставки заказов</td>\n",
              "      <td>2</td>\n",
              "      <td>5</td>\n",
              "      <td>4</td>\n",
              "      <td>10</td>\n",
              "      <td>2.0</td>\n",
              "    </tr>\n",
              "    <tr>\n",
              "      <td>5</td>\n",
              "      <td>Добавить страницу отзывов клиентов о магазине, что позволит увеличить количество заказов</td>\n",
              "      <td>3</td>\n",
              "      <td>2</td>\n",
              "      <td>2</td>\n",
              "      <td>3</td>\n",
              "      <td>1.3</td>\n",
              "    </tr>\n",
              "    <tr>\n",
              "      <td>3</td>\n",
              "      <td>Изменить структура категорий, что увеличит конверсию, т.к. пользователи быстрее найдут нужный товар</td>\n",
              "      <td>8</td>\n",
              "      <td>3</td>\n",
              "      <td>3</td>\n",
              "      <td>8</td>\n",
              "      <td>1.1</td>\n",
              "    </tr>\n",
              "    <tr>\n",
              "      <td>4</td>\n",
              "      <td>Изменить цвет фона главной страницы, чтобы увеличить вовлеченность пользователей</td>\n",
              "      <td>3</td>\n",
              "      <td>1</td>\n",
              "      <td>1</td>\n",
              "      <td>1</td>\n",
              "      <td>1.0</td>\n",
              "    </tr>\n",
              "  </tbody>\n",
              "</table>\n",
              "</div>"
            ],
            "text/plain": [
              "                                                                                                     Hypothesis  \\\n",
              "8                                                       Запустить акцию, дающую скидку на товар в день рождения   \n",
              "0            Добавить два новых канала привлечения трафика, что позволит привлекать на 30% больше пользователей   \n",
              "7              Добавить форму подписки на все основные страницы, чтобы собрать базу клиентов для email-рассылок   \n",
              "6          Показать на главной странице баннеры с актуальными акциями и распродажами, чтобы увеличить конверсию   \n",
              "2  Добавить блоки рекомендаций товаров на сайт интернет магазина, чтобы повысить конверсию и средний чек заказа   \n",
              "1                                     Запустить собственную службу доставки, что сократит срок доставки заказов   \n",
              "5                      Добавить страницу отзывов клиентов о магазине, что позволит увеличить количество заказов   \n",
              "3           Изменить структура категорий, что увеличит конверсию, т.к. пользователи быстрее найдут нужный товар   \n",
              "4                              Изменить цвет фона главной страницы, чтобы увеличить вовлеченность пользователей   \n",
              "\n",
              "   Reach  Impact  Confidence  Efforts   ICE  \n",
              "8      1       9           9        5  16.2  \n",
              "0      3      10           8        6  13.3  \n",
              "7     10       7           8        5  11.2  \n",
              "6      5       3           8        3   8.0  \n",
              "2      8       3           7        3   7.0  \n",
              "1      2       5           4       10   2.0  \n",
              "5      3       2           2        3   1.3  \n",
              "3      8       3           3        8   1.1  \n",
              "4      3       1           1        1   1.0  "
            ]
          },
          "metadata": {},
          "output_type": "display_data"
        }
      ],
      "source": [
        "hypothesis['ICE'] = ((hypothesis['Impact'] * hypothesis['Confidence']) / hypothesis['Efforts']).round(1)\n",
        "display(hypothesis.sort_values('ICE', ascending=False))"
      ]
    },
    {
      "cell_type": "markdown",
      "metadata": {
        "cellId": "gt2qhwiwn2xj1x5y8y5v",
        "id": "CLxnkWjjvz36"
      },
      "source": [
        "Применим фреймворк RICE для приоритизации гипотез. Отсортируем их по убыванию приоритета."
      ]
    },
    {
      "cell_type": "code",
      "execution_count": null,
      "metadata": {
        "cellId": "moddx8ung425bwqdh6maqi",
        "id": "UE2Hqzzwvz37",
        "outputId": "4bb0f0b9-2255-4814-f162-ac05cca2c96a"
      },
      "outputs": [
        {
          "data": {
            "text/html": [
              "<div>\n",
              "<style scoped>\n",
              "    .dataframe tbody tr th:only-of-type {\n",
              "        vertical-align: middle;\n",
              "    }\n",
              "\n",
              "    .dataframe tbody tr th {\n",
              "        vertical-align: top;\n",
              "    }\n",
              "\n",
              "    .dataframe thead th {\n",
              "        text-align: right;\n",
              "    }\n",
              "</style>\n",
              "<table border=\"1\" class=\"dataframe\">\n",
              "  <thead>\n",
              "    <tr style=\"text-align: right;\">\n",
              "      <th></th>\n",
              "      <th>Hypothesis</th>\n",
              "      <th>Reach</th>\n",
              "      <th>Impact</th>\n",
              "      <th>Confidence</th>\n",
              "      <th>Efforts</th>\n",
              "      <th>ICE</th>\n",
              "      <th>RICE</th>\n",
              "    </tr>\n",
              "  </thead>\n",
              "  <tbody>\n",
              "    <tr>\n",
              "      <td>7</td>\n",
              "      <td>Добавить форму подписки на все основные страницы, чтобы собрать базу клиентов для email-рассылок</td>\n",
              "      <td>10</td>\n",
              "      <td>7</td>\n",
              "      <td>8</td>\n",
              "      <td>5</td>\n",
              "      <td>11.2</td>\n",
              "      <td>112.0</td>\n",
              "    </tr>\n",
              "    <tr>\n",
              "      <td>2</td>\n",
              "      <td>Добавить блоки рекомендаций товаров на сайт интернет магазина, чтобы повысить конверсию и средний чек заказа</td>\n",
              "      <td>8</td>\n",
              "      <td>3</td>\n",
              "      <td>7</td>\n",
              "      <td>3</td>\n",
              "      <td>7.0</td>\n",
              "      <td>56.0</td>\n",
              "    </tr>\n",
              "    <tr>\n",
              "      <td>0</td>\n",
              "      <td>Добавить два новых канала привлечения трафика, что позволит привлекать на 30% больше пользователей</td>\n",
              "      <td>3</td>\n",
              "      <td>10</td>\n",
              "      <td>8</td>\n",
              "      <td>6</td>\n",
              "      <td>13.3</td>\n",
              "      <td>40.0</td>\n",
              "    </tr>\n",
              "    <tr>\n",
              "      <td>6</td>\n",
              "      <td>Показать на главной странице баннеры с актуальными акциями и распродажами, чтобы увеличить конверсию</td>\n",
              "      <td>5</td>\n",
              "      <td>3</td>\n",
              "      <td>8</td>\n",
              "      <td>3</td>\n",
              "      <td>8.0</td>\n",
              "      <td>40.0</td>\n",
              "    </tr>\n",
              "    <tr>\n",
              "      <td>8</td>\n",
              "      <td>Запустить акцию, дающую скидку на товар в день рождения</td>\n",
              "      <td>1</td>\n",
              "      <td>9</td>\n",
              "      <td>9</td>\n",
              "      <td>5</td>\n",
              "      <td>16.2</td>\n",
              "      <td>16.2</td>\n",
              "    </tr>\n",
              "    <tr>\n",
              "      <td>3</td>\n",
              "      <td>Изменить структура категорий, что увеличит конверсию, т.к. пользователи быстрее найдут нужный товар</td>\n",
              "      <td>8</td>\n",
              "      <td>3</td>\n",
              "      <td>3</td>\n",
              "      <td>8</td>\n",
              "      <td>1.1</td>\n",
              "      <td>9.0</td>\n",
              "    </tr>\n",
              "    <tr>\n",
              "      <td>1</td>\n",
              "      <td>Запустить собственную службу доставки, что сократит срок доставки заказов</td>\n",
              "      <td>2</td>\n",
              "      <td>5</td>\n",
              "      <td>4</td>\n",
              "      <td>10</td>\n",
              "      <td>2.0</td>\n",
              "      <td>4.0</td>\n",
              "    </tr>\n",
              "    <tr>\n",
              "      <td>5</td>\n",
              "      <td>Добавить страницу отзывов клиентов о магазине, что позволит увеличить количество заказов</td>\n",
              "      <td>3</td>\n",
              "      <td>2</td>\n",
              "      <td>2</td>\n",
              "      <td>3</td>\n",
              "      <td>1.3</td>\n",
              "      <td>4.0</td>\n",
              "    </tr>\n",
              "    <tr>\n",
              "      <td>4</td>\n",
              "      <td>Изменить цвет фона главной страницы, чтобы увеличить вовлеченность пользователей</td>\n",
              "      <td>3</td>\n",
              "      <td>1</td>\n",
              "      <td>1</td>\n",
              "      <td>1</td>\n",
              "      <td>1.0</td>\n",
              "      <td>3.0</td>\n",
              "    </tr>\n",
              "  </tbody>\n",
              "</table>\n",
              "</div>"
            ],
            "text/plain": [
              "                                                                                                     Hypothesis  \\\n",
              "7              Добавить форму подписки на все основные страницы, чтобы собрать базу клиентов для email-рассылок   \n",
              "2  Добавить блоки рекомендаций товаров на сайт интернет магазина, чтобы повысить конверсию и средний чек заказа   \n",
              "0            Добавить два новых канала привлечения трафика, что позволит привлекать на 30% больше пользователей   \n",
              "6          Показать на главной странице баннеры с актуальными акциями и распродажами, чтобы увеличить конверсию   \n",
              "8                                                       Запустить акцию, дающую скидку на товар в день рождения   \n",
              "3           Изменить структура категорий, что увеличит конверсию, т.к. пользователи быстрее найдут нужный товар   \n",
              "1                                     Запустить собственную службу доставки, что сократит срок доставки заказов   \n",
              "5                      Добавить страницу отзывов клиентов о магазине, что позволит увеличить количество заказов   \n",
              "4                              Изменить цвет фона главной страницы, чтобы увеличить вовлеченность пользователей   \n",
              "\n",
              "   Reach  Impact  Confidence  Efforts   ICE   RICE  \n",
              "7     10       7           8        5  11.2  112.0  \n",
              "2      8       3           7        3   7.0   56.0  \n",
              "0      3      10           8        6  13.3   40.0  \n",
              "6      5       3           8        3   8.0   40.0  \n",
              "8      1       9           9        5  16.2   16.2  \n",
              "3      8       3           3        8   1.1    9.0  \n",
              "1      2       5           4       10   2.0    4.0  \n",
              "5      3       2           2        3   1.3    4.0  \n",
              "4      3       1           1        1   1.0    3.0  "
            ]
          },
          "metadata": {},
          "output_type": "display_data"
        }
      ],
      "source": [
        "hypothesis['RICE'] = (hypothesis['Reach'] * hypothesis['Impact'] * hypothesis['Confidence']) / hypothesis['Efforts']\n",
        "display(hypothesis.sort_values('RICE', ascending=False))"
      ]
    },
    {
      "cell_type": "markdown",
      "metadata": {
        "cellId": "kifbmhxa43crelosald4",
        "id": "C_EiPGCMvz38"
      },
      "source": [
        "- После применения фреймворка RICE, гипотеза 7 переместилась с третьего на первое место, потому что ее параметр Reach равен 10 в то время как у других гипотез он меньше.\n",
        "- Гипотеза 8 переместилась с первого на пятое место, потому что ее параметр Reach равен 1 в то время как у других гипотез он больше.\n",
        "- Гипотезы 1, 3, 4 и 5 по прежнему занимают последние четыре места."
      ]
    },
    {
      "cell_type": "markdown",
      "metadata": {
        "cellId": "aahuuyqim4q4a9euqwsske",
        "id": "F0oCMrvJvz39"
      },
      "source": [
        "## 3. Часть 2. Анализ A/B-теста"
      ]
    },
    {
      "cell_type": "markdown",
      "metadata": {
        "cellId": "pxgcj7089h0tmbyngo7ba",
        "id": "MjAq0CATvz3-"
      },
      "source": [
        "Чтобы построить графики, нужно собрать кумулятивные данные.\\\n",
        "Создадим массив уникальных пар значений дат и групп теста"
      ]
    },
    {
      "cell_type": "code",
      "execution_count": null,
      "metadata": {
        "cellId": "ymfm36hyvjlau1nkrf04c",
        "id": "DHkaC6g4vz3-"
      },
      "outputs": [],
      "source": [
        "datesGroups = orders[['date', 'group']].drop_duplicates()"
      ]
    },
    {
      "cell_type": "markdown",
      "metadata": {
        "cellId": "9xvk1hxmqqgop3ry27d9lm",
        "id": "0YztY_K0vz3_"
      },
      "source": [
        "Получим агрегированные кумулятивные по дням данные о заказах"
      ]
    },
    {
      "cell_type": "code",
      "execution_count": null,
      "metadata": {
        "cellId": "r08e763asnh5hpsuoswvr",
        "id": "6UO5VQ0Svz4A"
      },
      "outputs": [],
      "source": [
        "ordersAggregated = datesGroups.apply(lambda x: orders[np.logical_and(orders['date'] <= x['date'], orders['group'] == x['group'])] \\\n",
        ".agg({'date': 'max', 'group': 'max', 'transactionId': 'nunique', 'visitorId': 'nunique', 'revenue': 'sum'}), axis=1).sort_values(by=['date','group'])"
      ]
    },
    {
      "cell_type": "markdown",
      "metadata": {
        "cellId": "7gjw7o54a3vqatefv1w0y",
        "id": "TaKBygIGvz4B"
      },
      "source": [
        "Получим агрегированные кумулятивные по дням данные о посетителях"
      ]
    },
    {
      "cell_type": "code",
      "execution_count": null,
      "metadata": {
        "cellId": "fz4oaj7wplv1c4ts6rszrd",
        "id": "ENrXmWTMvz4B"
      },
      "outputs": [],
      "source": [
        "visitorsAggregated = datesGroups.apply(lambda x: visitors[np.logical_and(visitors['date'] <= x['date'], visitors['group'] == x['group'])] \\\n",
        "                                       .agg({'date': 'max', 'group': 'max', 'visitors': 'sum'}), axis=1).sort_values(by=['date','group'])"
      ]
    },
    {
      "cell_type": "markdown",
      "metadata": {
        "cellId": "j7bqxsn3h8p9dujxa3zk",
        "id": "LbyWGbtOvz4C"
      },
      "source": [
        "Объединим кумулятивные данные в одной таблице **cumulativeData**, присвоим ее столбцам названия:\n",
        "- `date` — дата;\n",
        "- `group` — группа A/B-теста (A или B);\n",
        "- `orders` — кумулятивное количество заказов на указанную дату в указанной группе;\n",
        "- `buyers` — кумулятивное количество пользователей, совершивших хотя бы один заказ, на указанную дату в указанной группе;\n",
        "- `revenue` — кумулятивная выручка на указанную дату в указанной группе (средний чек);\n",
        "- `visitors` — кумулятивное количество посетителей интернет-магазина на указанную дату в определённой группе."
      ]
    },
    {
      "cell_type": "code",
      "execution_count": null,
      "metadata": {
        "cellId": "7kkd9wzpr43pwvaix3qbln",
        "id": "yBvGX8BUvz4C"
      },
      "outputs": [],
      "source": [
        "cumulativeData = ordersAggregated.merge(visitorsAggregated, left_on=['date', 'group'], right_on=['date', 'group'])\n",
        "cumulativeData.columns = ['date', 'group', 'orders', 'buyers', 'revenue', 'visitors']"
      ]
    },
    {
      "cell_type": "code",
      "execution_count": null,
      "metadata": {
        "cellId": "nf5jfklwt08epucqyreorl",
        "id": "MuYXYFK3vz4D",
        "outputId": "a2910e27-0748-4de2-9a76-2ba29cbe7b45"
      },
      "outputs": [
        {
          "data": {
            "text/html": [
              "<div>\n",
              "<style scoped>\n",
              "    .dataframe tbody tr th:only-of-type {\n",
              "        vertical-align: middle;\n",
              "    }\n",
              "\n",
              "    .dataframe tbody tr th {\n",
              "        vertical-align: top;\n",
              "    }\n",
              "\n",
              "    .dataframe thead th {\n",
              "        text-align: right;\n",
              "    }\n",
              "</style>\n",
              "<table border=\"1\" class=\"dataframe\">\n",
              "  <thead>\n",
              "    <tr style=\"text-align: right;\">\n",
              "      <th></th>\n",
              "      <th>date</th>\n",
              "      <th>group</th>\n",
              "      <th>orders</th>\n",
              "      <th>buyers</th>\n",
              "      <th>revenue</th>\n",
              "      <th>visitors</th>\n",
              "    </tr>\n",
              "  </thead>\n",
              "  <tbody>\n",
              "    <tr>\n",
              "      <td>0</td>\n",
              "      <td>2019-08-01</td>\n",
              "      <td>A</td>\n",
              "      <td>23</td>\n",
              "      <td>19</td>\n",
              "      <td>142779</td>\n",
              "      <td>719</td>\n",
              "    </tr>\n",
              "    <tr>\n",
              "      <td>1</td>\n",
              "      <td>2019-08-01</td>\n",
              "      <td>B</td>\n",
              "      <td>17</td>\n",
              "      <td>17</td>\n",
              "      <td>59758</td>\n",
              "      <td>713</td>\n",
              "    </tr>\n",
              "    <tr>\n",
              "      <td>2</td>\n",
              "      <td>2019-08-02</td>\n",
              "      <td>A</td>\n",
              "      <td>42</td>\n",
              "      <td>36</td>\n",
              "      <td>234381</td>\n",
              "      <td>1338</td>\n",
              "    </tr>\n",
              "    <tr>\n",
              "      <td>3</td>\n",
              "      <td>2019-08-02</td>\n",
              "      <td>B</td>\n",
              "      <td>40</td>\n",
              "      <td>39</td>\n",
              "      <td>221801</td>\n",
              "      <td>1294</td>\n",
              "    </tr>\n",
              "    <tr>\n",
              "      <td>4</td>\n",
              "      <td>2019-08-03</td>\n",
              "      <td>A</td>\n",
              "      <td>66</td>\n",
              "      <td>60</td>\n",
              "      <td>346854</td>\n",
              "      <td>1845</td>\n",
              "    </tr>\n",
              "  </tbody>\n",
              "</table>\n",
              "</div>"
            ],
            "text/plain": [
              "        date group  orders  buyers  revenue  visitors\n",
              "0 2019-08-01     A      23      19   142779       719\n",
              "1 2019-08-01     B      17      17    59758       713\n",
              "2 2019-08-02     A      42      36   234381      1338\n",
              "3 2019-08-02     B      40      39   221801      1294\n",
              "4 2019-08-03     A      66      60   346854      1845"
            ]
          },
          "metadata": {},
          "output_type": "display_data"
        }
      ],
      "source": [
        "display(cumulativeData.head(5))"
      ]
    },
    {
      "cell_type": "markdown",
      "metadata": {
        "cellId": "adj64h6lkyu4t4ujj6tqkv",
        "id": "AN_YyCR8vz4E"
      },
      "source": [
        "**cumulativeRevenueA** — датафрейм с кумулятивным количеством заказов и кумулятивной выручкой по дням в группе А"
      ]
    },
    {
      "cell_type": "code",
      "execution_count": null,
      "metadata": {
        "cellId": "iwd5huj16wbn34pbxic3va",
        "id": "wxHXjNT_vz4F"
      },
      "outputs": [],
      "source": [
        "cumulativeRevenueA = cumulativeData[cumulativeData['group'] == 'A'][['date','revenue', 'orders']]"
      ]
    },
    {
      "cell_type": "markdown",
      "metadata": {
        "cellId": "f6osoo23tcl6ob8bav29",
        "id": "Ej0W6fBuvz4F"
      },
      "source": [
        "**cumulativeRevenueB** — датафрейм с кумулятивным количеством заказов и кумулятивной выручкой по дням в группе B"
      ]
    },
    {
      "cell_type": "code",
      "execution_count": null,
      "metadata": {
        "cellId": "dlmqly3vqel5gkq4gy36kq",
        "id": "ks80M6tkvz4G"
      },
      "outputs": [],
      "source": [
        "cumulativeRevenueB = cumulativeData[cumulativeData['group'] == 'B'][['date','revenue', 'orders']]"
      ]
    },
    {
      "cell_type": "markdown",
      "metadata": {
        "cellId": "k88i398642hg2pjpxs3225",
        "id": "eBQX0iuAvz4G"
      },
      "source": [
        "Построим графики кумулятивной выручки по группам"
      ]
    },
    {
      "cell_type": "code",
      "execution_count": null,
      "metadata": {
        "cellId": "4q6lp9huocto15pv2rthe",
        "id": "bcTV2p4Ovz4H",
        "outputId": "e38491f0-9905-43a1-d16d-4aae0bd7a758"
      },
      "outputs": [
        {
          "data": {
            "image/png": "[encoded data removed]",
            "text/plain": [
              "<Figure size 432x288 with 1 Axes>"
            ]
          },
          "metadata": {
            "needs_background": "light"
          },
          "output_type": "display_data"
        }
      ],
      "source": [
        "warnings.filterwarnings('ignore')\n",
        "plt.plot(cumulativeRevenueA['date'], cumulativeRevenueA['revenue'], label='A')\n",
        "plt.plot(cumulativeRevenueB['date'], cumulativeRevenueB['revenue'], label='B')\n",
        "plt.xticks(rotation=45)\n",
        "plt.ylabel('Выручка')\n",
        "plt.xlabel('Дата')\n",
        "plt.title('Выручка')\n",
        "plt.legend();"
      ]
    },
    {
      "cell_type": "markdown",
      "metadata": {
        "cellId": "w11nowtpmdgfpjrp9f155q",
        "id": "Yuh7YZIovz4I"
      },
      "source": [
        "- Выручка почти равномерно увеличивается в течение всего теста. Однако график выручки группы В резко растет в одной точке. Это может сигнализировать о всплесках числа заказов, либо о появлении очень дорогих заказов в выборке."
      ]
    },
    {
      "cell_type": "markdown",
      "metadata": {
        "cellId": "1efoum6werjopvnz4lsts",
        "id": "vORW3GNAvz4J"
      },
      "source": [
        "Построим графики кумулятивного среднего чека по группам"
      ]
    },
    {
      "cell_type": "code",
      "execution_count": null,
      "metadata": {
        "cellId": "beuz523hkzsikfds2w671",
        "id": "D8SoTHWKvz4K",
        "outputId": "61bf0672-d1b1-46f3-eb1d-74a7672ab395"
      },
      "outputs": [
        {
          "data": {
            "image/png": "[encoded data removed]",
            "text/plain": [
              "<Figure size 432x288 with 1 Axes>"
            ]
          },
          "metadata": {
            "needs_background": "light"
          },
          "output_type": "display_data"
        }
      ],
      "source": [
        "plt.plot(cumulativeRevenueA['date'], cumulativeRevenueA['revenue'] / cumulativeRevenueA['orders'], label='A')\n",
        "plt.plot(cumulativeRevenueB['date'], cumulativeRevenueB['revenue'] / cumulativeRevenueB['orders'], label='B')\n",
        "plt.xticks(rotation=45)\n",
        "plt.ylabel('Средний чек')\n",
        "plt.xlabel('Дата')\n",
        "plt.title('Средний чек')\n",
        "plt.legend();"
      ]
    },
    {
      "cell_type": "markdown",
      "metadata": {
        "cellId": "tugwokuj0dfav3s9e7q2la",
        "id": "D42JibmOvz4L"
      },
      "source": [
        "- Средний чек становится равномерным ближе к концу теста. В середине теста имеется резкий всплеск на графике группы В, скорее всего попали крупные заказы. Тогда ей нужно больше данных, чтобы прийти к реальному среднему чеку и установиться на его уровне.                                               "
      ]
    },
    {
      "cell_type": "markdown",
      "metadata": {
        "cellId": "70c9nvu59w3h0u3vphzrzm",
        "id": "21kmDbeMvz4L"
      },
      "source": [
        "Соберем данные в одном датафрейме **mergedCumulativeRevenue**"
      ]
    },
    {
      "cell_type": "code",
      "execution_count": null,
      "metadata": {
        "cellId": "a7ads7j8qnj72gflxyeqtq",
        "id": "h4ltX3dGvz4L"
      },
      "outputs": [],
      "source": [
        "mergedCumulativeRevenue = cumulativeRevenueA.merge(cumulativeRevenueB, left_on='date', right_on='date', how='left', suffixes=['A', 'B'])"
      ]
    },
    {
      "cell_type": "markdown",
      "metadata": {
        "cellId": "k4ou5akq3cgmcq3i1009p",
        "id": "iRvMIC32vz4L"
      },
      "source": [
        "Построим график относительного изменения кумулятивного среднего чека группы B к группе A"
      ]
    },
    {
      "cell_type": "code",
      "execution_count": null,
      "metadata": {
        "cellId": "6onduntzb0sjzgtqqm7mk7",
        "id": "0f3QUUb7vz4L",
        "outputId": "2ee0c994-b3f4-4217-fdee-1e5eb66670b1"
      },
      "outputs": [
        {
          "data": {
            "image/png": "[encoded data removed]",
            "text/plain": [
              "<Figure size 432x288 with 1 Axes>"
            ]
          },
          "metadata": {
            "needs_background": "light"
          },
          "output_type": "display_data"
        }
      ],
      "source": [
        "plt.plot(mergedCumulativeRevenue['date'], (mergedCumulativeRevenue['revenueB'] / mergedCumulativeRevenue['ordersB']) /\n",
        "         (mergedCumulativeRevenue['revenueA'] / mergedCumulativeRevenue['ordersA'])-1)\n",
        "plt.axhline(y=0, color='black', linestyle='--')\n",
        "plt.xticks(rotation=45)\n",
        "plt.ylabel('Относительное различие')\n",
        "plt.xlabel('Дата')\n",
        "plt.title('Относительное различие для среднего чека');"
      ]
    },
    {
      "cell_type": "markdown",
      "metadata": {
        "cellId": "dtpo37xwmhumkhoanhb95i",
        "id": "0b1tqPTtvz4L"
      },
      "source": [
        "- В той же точке имеется сильный всплеск, значит в группу В попали крупные заказы или один заказ."
      ]
    },
    {
      "cell_type": "markdown",
      "metadata": {
        "cellId": "zu3jrewmg9caw06t4m16v",
        "id": "1QoIfM1Lvz4L"
      },
      "source": [
        "Посчитаем кумулятивную конверсию, в таблицу **cumulativeData** добавим столбец `conversion`.\\\n",
        "Отделим данные по группе A и по группе B."
      ]
    },
    {
      "cell_type": "code",
      "execution_count": null,
      "metadata": {
        "cellId": "5i8hyphxr5sfx62ehixjrv",
        "id": "-xTpo3f9vz4L"
      },
      "outputs": [],
      "source": [
        "cumulativeData['conversion'] = cumulativeData['orders'] / cumulativeData['visitors']\n",
        "\n",
        "cumulativeDataA = cumulativeData[cumulativeData['group'] == 'A']\n",
        "\n",
        "cumulativeDataB = cumulativeData[cumulativeData['group'] == 'B']"
      ]
    },
    {
      "cell_type": "markdown",
      "metadata": {
        "cellId": "kmk2acvrnki859zxj6iks8",
        "id": "flzyXFYivz4L"
      },
      "source": [
        "Построим графики кумулятивной конверсии по группам"
      ]
    },
    {
      "cell_type": "code",
      "execution_count": null,
      "metadata": {
        "cellId": "ns1o6m01juhhoevrptjt18",
        "id": "jCj8Kvfgvz4L",
        "outputId": "d9346791-61e4-4089-e5bf-8bc9bffe0a8e"
      },
      "outputs": [
        {
          "data": {
            "image/png": "[encoded data removed]",
            "text/plain": [
              "<Figure size 432x288 with 1 Axes>"
            ]
          },
          "metadata": {
            "needs_background": "light"
          },
          "output_type": "display_data"
        }
      ],
      "source": [
        "plt.plot(cumulativeDataA['date'], cumulativeDataA['conversion'], label='A')\n",
        "plt.plot(cumulativeDataB['date'], cumulativeDataB['conversion'], label='B')\n",
        "plt.xticks(rotation=45)\n",
        "plt.ylabel('Конверсия')\n",
        "plt.xlabel('Дата')\n",
        "plt.title('Конверсия')\n",
        "plt.legend();"
      ]
    },
    {
      "cell_type": "markdown",
      "metadata": {
        "cellId": "ngkhixznddasai38aiz7nj",
        "id": "MwO30eYhvz4L"
      },
      "source": [
        "- В начале теста графики сильно колебались, но затем конверсия группы В вырвалась вперёд и зафиксировалась, а конверсия группы А просела и также зафиксировалась."
      ]
    },
    {
      "cell_type": "markdown",
      "metadata": {
        "cellId": "76jj18vpcqhnkd34soyy3",
        "id": "wM9tJPurvz4L"
      },
      "source": [
        "Соберем данные в одном датафрейме **mergedCumulativeConversions**"
      ]
    },
    {
      "cell_type": "code",
      "execution_count": null,
      "metadata": {
        "cellId": "gocs16lb7uw4ao9rn82j",
        "id": "cuNZPfwFvz4L"
      },
      "outputs": [],
      "source": [
        "mergedCumulativeConversions = cumulativeDataA[['date', 'conversion']].merge(cumulativeDataB[['date', 'conversion']], left_on='date',\n",
        "                                                                            right_on='date', how='left', suffixes=['A', 'B'])"
      ]
    },
    {
      "cell_type": "markdown",
      "metadata": {
        "cellId": "l0dyyhr6i9e8bk5kj9752l",
        "id": "ZkgFzkTIvz4L"
      },
      "source": [
        "Построим график относительного изменения кумулятивной конверсии группы B к группе A"
      ]
    },
    {
      "cell_type": "code",
      "execution_count": null,
      "metadata": {
        "cellId": "tab037be339x3sl450enh",
        "id": "pDOHFqlXvz4L",
        "outputId": "a4d059da-1545-4eea-a358-3e4aae83ca3b"
      },
      "outputs": [
        {
          "data": {
            "image/png": "[encoded data removed]",
            "text/plain": [
              "<Figure size 432x288 with 1 Axes>"
            ]
          },
          "metadata": {
            "needs_background": "light"
          },
          "output_type": "display_data"
        }
      ],
      "source": [
        "plt.plot(mergedCumulativeConversions['date'], mergedCumulativeConversions['conversionB'] /\n",
        "         mergedCumulativeConversions['conversionA']-1)\n",
        "plt.axhline(y=0, color='black', linestyle='--')\n",
        "plt.xticks(rotation=45)\n",
        "plt.ylabel('Относительное различие')\n",
        "plt.xlabel('Дата')\n",
        "plt.title('Относительный прирост конверсии группы B относительно группы A');"
      ]
    },
    {
      "cell_type": "markdown",
      "metadata": {
        "cellId": "h3qaut4nd1fqq0xr8xwx8",
        "id": "Kiz5EgHXvz4V"
      },
      "source": [
        "- В начале теста группа B значительно проигрывала группе A, затем вырвалась вперёд и зафиксировалась примерно на одном уровне с небольшой тенденцией к снижению."
      ]
    },
    {
      "cell_type": "markdown",
      "metadata": {
        "cellId": "kyz1a3pdoubun6qn2nspm",
        "id": "x2S1ZuQ4vz4V"
      },
      "source": [
        "Подсчитаем количество заказов по пользователям и построим точечный график количества заказов по пользователям"
      ]
    },
    {
      "cell_type": "code",
      "execution_count": null,
      "metadata": {
        "cellId": "vrizqmvs9k8hfglchg4k7k",
        "id": "oMRAPDujvz4V",
        "outputId": "74c3d67d-cd94-4b08-dd8e-646cf99d8899"
      },
      "outputs": [
        {
          "data": {
            "text/html": [
              "<div>\n",
              "<style scoped>\n",
              "    .dataframe tbody tr th:only-of-type {\n",
              "        vertical-align: middle;\n",
              "    }\n",
              "\n",
              "    .dataframe tbody tr th {\n",
              "        vertical-align: top;\n",
              "    }\n",
              "\n",
              "    .dataframe thead th {\n",
              "        text-align: right;\n",
              "    }\n",
              "</style>\n",
              "<table border=\"1\" class=\"dataframe\">\n",
              "  <thead>\n",
              "    <tr style=\"text-align: right;\">\n",
              "      <th></th>\n",
              "      <th>visitorId</th>\n",
              "      <th>orders</th>\n",
              "    </tr>\n",
              "  </thead>\n",
              "  <tbody>\n",
              "    <tr>\n",
              "      <td>908</td>\n",
              "      <td>3967698036</td>\n",
              "      <td>3</td>\n",
              "    </tr>\n",
              "    <tr>\n",
              "      <td>55</td>\n",
              "      <td>249864742</td>\n",
              "      <td>3</td>\n",
              "    </tr>\n",
              "    <tr>\n",
              "      <td>478</td>\n",
              "      <td>2108163459</td>\n",
              "      <td>3</td>\n",
              "    </tr>\n",
              "    <tr>\n",
              "      <td>687</td>\n",
              "      <td>2988190573</td>\n",
              "      <td>3</td>\n",
              "    </tr>\n",
              "    <tr>\n",
              "      <td>890</td>\n",
              "      <td>3908431265</td>\n",
              "      <td>3</td>\n",
              "    </tr>\n",
              "    <tr>\n",
              "      <td>138</td>\n",
              "      <td>611059232</td>\n",
              "      <td>3</td>\n",
              "    </tr>\n",
              "    <tr>\n",
              "      <td>632</td>\n",
              "      <td>2742574263</td>\n",
              "      <td>3</td>\n",
              "    </tr>\n",
              "    <tr>\n",
              "      <td>157</td>\n",
              "      <td>678354126</td>\n",
              "      <td>2</td>\n",
              "    </tr>\n",
              "    <tr>\n",
              "      <td>323</td>\n",
              "      <td>1404560065</td>\n",
              "      <td>2</td>\n",
              "    </tr>\n",
              "    <tr>\n",
              "      <td>452</td>\n",
              "      <td>1985475298</td>\n",
              "      <td>2</td>\n",
              "    </tr>\n",
              "  </tbody>\n",
              "</table>\n",
              "</div>"
            ],
            "text/plain": [
              "      visitorId  orders\n",
              "908  3967698036       3\n",
              "55    249864742       3\n",
              "478  2108163459       3\n",
              "687  2988190573       3\n",
              "890  3908431265       3\n",
              "138   611059232       3\n",
              "632  2742574263       3\n",
              "157   678354126       2\n",
              "323  1404560065       2\n",
              "452  1985475298       2"
            ]
          },
          "metadata": {},
          "output_type": "display_data"
        }
      ],
      "source": [
        "ordersByUsers = (orders.groupby('visitorId', as_index=False)\n",
        "    .agg({'transactionId': pd.Series.nunique}))\n",
        "\n",
        "ordersByUsers.columns = ['visitorId', 'orders']\n",
        "\n",
        "display(ordersByUsers.sort_values(by='orders', ascending=False).head(10))"
      ]
    },
    {
      "cell_type": "code",
      "execution_count": null,
      "metadata": {
        "cellId": "j7qq0srp08jbxobwhjj2v9",
        "id": "wRRYHdzfvz4V",
        "outputId": "4030341d-4265-46c8-ba6c-de467d89a5a7"
      },
      "outputs": [
        {
          "data": {
            "image/png": "[encoded data removed]",
            "text/plain": [
              "<Figure size 432x288 with 1 Axes>"
            ]
          },
          "metadata": {
            "needs_background": "light"
          },
          "output_type": "display_data"
        }
      ],
      "source": [
        "x_values = pd.Series(range(0, len(ordersByUsers)))\n",
        "plt.scatter(x_values, ordersByUsers['orders'])\n",
        "plt.ylabel('Количество заказов')\n",
        "plt.xlabel('Пользователь')\n",
        "plt.title('Количество заказов по пользователям');"
      ]
    },
    {
      "cell_type": "markdown",
      "metadata": {
        "cellId": "e7xxkr6tht8xqw2dgphtho",
        "id": "QhlQWRvEvz4V"
      },
      "source": [
        "- Большинство покупателей заказывали только один раз. Однако доля пользователей с 2 заказами тоже значительна. Их точная доля пока не ясна. Так же имеются пользователи с 3 заказами."
      ]
    },
    {
      "cell_type": "markdown",
      "metadata": {
        "cellId": "sl6615zv0p8c67t1vyic2",
        "id": "J49320fevz4V"
      },
      "source": [
        "Посчитаем 95-й и 99-й перцентили количества заказов на пользователя. Выберем границу для определения аномальных пользователей"
      ]
    },
    {
      "cell_type": "code",
      "execution_count": null,
      "metadata": {
        "cellId": "x50e61g6yfsrlpx7j4zis",
        "id": "oy20Qltcvz4V",
        "outputId": "b82fed19-1333-4b9c-a2bb-6e981418e60f"
      },
      "outputs": [
        {
          "name": "stdout",
          "output_type": "stream",
          "text": [
            "[1. 2.]\n"
          ]
        }
      ],
      "source": [
        "print(np.percentile(ordersByUsers['orders'], [95, 99]))"
      ]
    },
    {
      "cell_type": "markdown",
      "metadata": {
        "cellId": "2rr5ouabhjn54nrfml76",
        "id": "6S02H1Aivz4V"
      },
      "source": [
        "- Не более 1% пользователей оформляли больше чем 2 заказов и не более 5% пользователей заказывали более одного раза.\n",
        "- Разумно выбрать 2 заказа на одного пользователя за нижнюю границу числа заказов — `limit_number_orders`, и отсеять аномальных пользователей по ней."
      ]
    },
    {
      "cell_type": "code",
      "execution_count": null,
      "metadata": {
        "cellId": "vemfpnugciq4o0mxgj5ib9",
        "id": "gWeH5h9cvz4V"
      },
      "outputs": [],
      "source": [
        "limit_number_orders = 2"
      ]
    },
    {
      "cell_type": "markdown",
      "metadata": {
        "cellId": "wzpp3kf5ftecox4w042ywj",
        "id": "fi13y8QRvz4V"
      },
      "source": [
        "Построим точечный график стоимостей заказов"
      ]
    },
    {
      "cell_type": "code",
      "execution_count": null,
      "metadata": {
        "cellId": "xnfz9jt075jso659owoyj",
        "id": "UaW5eYV_vz4V",
        "outputId": "94b6ba09-f1ef-4e7b-ff9c-2cd9dc7bf238"
      },
      "outputs": [
        {
          "data": {
            "image/png": "[encoded data removed]",
            "text/plain": [
              "<Figure size 432x288 with 1 Axes>"
            ]
          },
          "metadata": {
            "needs_background": "light"
          },
          "output_type": "display_data"
        }
      ],
      "source": [
        "x_values = pd.Series(range(0, len(orders['revenue'])))\n",
        "plt.scatter(x_values, orders['revenue'])\n",
        "plt.ylabel('Стоимость заказа')\n",
        "plt.xlabel('Пользователь')\n",
        "plt.title('Стоимость заказов по пользователям');"
      ]
    },
    {
      "cell_type": "markdown",
      "metadata": {
        "cellId": "6afplzxbn829whodttfc5w",
        "id": "WbgczdMZvz4V"
      },
      "source": [
        "- Есть один очень дорогой заказ, скорее всего он влиял на графиках выручки и среднего чека."
      ]
    },
    {
      "cell_type": "markdown",
      "metadata": {
        "cellId": "s42nptyrs6rn0tj1yy2yr",
        "id": "1UeGJm8Nvz4V"
      },
      "source": [
        "Посчитаем 95-й и 99-й перцентили стоимости заказов. Выберем границу для определения аномальных заказов"
      ]
    },
    {
      "cell_type": "code",
      "execution_count": null,
      "metadata": {
        "cellId": "grrxbyix5rrzkg9humhvv",
        "id": "xg1K-pkZvz4V",
        "outputId": "00b25e3d-f109-41fc-e1bc-2fbe533e6c56"
      },
      "outputs": [
        {
          "name": "stdout",
          "output_type": "stream",
          "text": [
            "[26785. 53904.]\n"
          ]
        }
      ],
      "source": [
        "print(np.percentile(orders['revenue'], [95, 99]))"
      ]
    },
    {
      "cell_type": "markdown",
      "metadata": {
        "cellId": "wjnj33nt5jomenp7n0p12",
        "id": "c9J0G16fvz4V"
      },
      "source": [
        "- Не более 1% заказов дороже 53904 рублей и не более 5% дороже 26785 рублей.\n",
        "- Разумно выбрать 53904 рублей за нижнюю границу стоимости заказов — limit_cost_orders, и отсеять аномальных пользователей по ней."
      ]
    },
    {
      "cell_type": "code",
      "execution_count": null,
      "metadata": {
        "cellId": "9ruag8hm1klbc6l1fwgju",
        "id": "UItlzXuZvz4f"
      },
      "outputs": [],
      "source": [
        "limit_cost_orders = 53904"
      ]
    },
    {
      "cell_type": "markdown",
      "metadata": {
        "cellId": "jxwgespyiqgawbykbcqkk8",
        "id": "1Iowtpnovz4f"
      },
      "source": [
        "Для того чтобы посчитать статистическую значимость различий в конверсии и среднем чеке между группами создадим таблицу **data**"
      ]
    },
    {
      "cell_type": "code",
      "execution_count": null,
      "metadata": {
        "cellId": "b2rpwlyhrxuk97t10x019",
        "id": "8eiBSYK2vz4f",
        "outputId": "d487319b-9ec0-4ed8-a6d3-ccaeb0d5b931"
      },
      "outputs": [
        {
          "data": {
            "text/html": [
              "<div>\n",
              "<style scoped>\n",
              "    .dataframe tbody tr th:only-of-type {\n",
              "        vertical-align: middle;\n",
              "    }\n",
              "\n",
              "    .dataframe tbody tr th {\n",
              "        vertical-align: top;\n",
              "    }\n",
              "\n",
              "    .dataframe thead th {\n",
              "        text-align: right;\n",
              "    }\n",
              "</style>\n",
              "<table border=\"1\" class=\"dataframe\">\n",
              "  <thead>\n",
              "    <tr style=\"text-align: right;\">\n",
              "      <th></th>\n",
              "      <th>date</th>\n",
              "      <th>ordersPerDateA</th>\n",
              "      <th>revenuePerDateA</th>\n",
              "      <th>ordersPerDateB</th>\n",
              "      <th>revenuePerDateB</th>\n",
              "      <th>ordersCummulativeA</th>\n",
              "      <th>revenueCummulativeA</th>\n",
              "      <th>ordersCummulativeB</th>\n",
              "      <th>revenueCummulativeB</th>\n",
              "      <th>visitorsPerDateA</th>\n",
              "      <th>visitorsPerDateB</th>\n",
              "      <th>visitorsCummulativeA</th>\n",
              "      <th>visitorsCummulativeB</th>\n",
              "    </tr>\n",
              "  </thead>\n",
              "  <tbody>\n",
              "    <tr>\n",
              "      <td>0</td>\n",
              "      <td>2019-08-01</td>\n",
              "      <td>23</td>\n",
              "      <td>142779</td>\n",
              "      <td>17</td>\n",
              "      <td>59758</td>\n",
              "      <td>23</td>\n",
              "      <td>142779</td>\n",
              "      <td>17</td>\n",
              "      <td>59758</td>\n",
              "      <td>719</td>\n",
              "      <td>713</td>\n",
              "      <td>719</td>\n",
              "      <td>713</td>\n",
              "    </tr>\n",
              "    <tr>\n",
              "      <td>1</td>\n",
              "      <td>2019-08-02</td>\n",
              "      <td>19</td>\n",
              "      <td>91602</td>\n",
              "      <td>23</td>\n",
              "      <td>162043</td>\n",
              "      <td>42</td>\n",
              "      <td>234381</td>\n",
              "      <td>40</td>\n",
              "      <td>221801</td>\n",
              "      <td>619</td>\n",
              "      <td>581</td>\n",
              "      <td>1338</td>\n",
              "      <td>1294</td>\n",
              "    </tr>\n",
              "    <tr>\n",
              "      <td>2</td>\n",
              "      <td>2019-08-03</td>\n",
              "      <td>24</td>\n",
              "      <td>112473</td>\n",
              "      <td>14</td>\n",
              "      <td>67049</td>\n",
              "      <td>66</td>\n",
              "      <td>346854</td>\n",
              "      <td>54</td>\n",
              "      <td>288850</td>\n",
              "      <td>507</td>\n",
              "      <td>509</td>\n",
              "      <td>1845</td>\n",
              "      <td>1803</td>\n",
              "    </tr>\n",
              "    <tr>\n",
              "      <td>3</td>\n",
              "      <td>2019-08-04</td>\n",
              "      <td>11</td>\n",
              "      <td>41176</td>\n",
              "      <td>14</td>\n",
              "      <td>96890</td>\n",
              "      <td>77</td>\n",
              "      <td>388030</td>\n",
              "      <td>68</td>\n",
              "      <td>385740</td>\n",
              "      <td>717</td>\n",
              "      <td>770</td>\n",
              "      <td>2562</td>\n",
              "      <td>2573</td>\n",
              "    </tr>\n",
              "    <tr>\n",
              "      <td>4</td>\n",
              "      <td>2019-08-05</td>\n",
              "      <td>22</td>\n",
              "      <td>86383</td>\n",
              "      <td>21</td>\n",
              "      <td>89908</td>\n",
              "      <td>99</td>\n",
              "      <td>474413</td>\n",
              "      <td>89</td>\n",
              "      <td>475648</td>\n",
              "      <td>756</td>\n",
              "      <td>707</td>\n",
              "      <td>3318</td>\n",
              "      <td>3280</td>\n",
              "    </tr>\n",
              "  </tbody>\n",
              "</table>\n",
              "</div>"
            ],
            "text/plain": [
              "        date  ordersPerDateA  revenuePerDateA  ordersPerDateB  \\\n",
              "0 2019-08-01              23           142779              17   \n",
              "1 2019-08-02              19            91602              23   \n",
              "2 2019-08-03              24           112473              14   \n",
              "3 2019-08-04              11            41176              14   \n",
              "4 2019-08-05              22            86383              21   \n",
              "\n",
              "   revenuePerDateB  ordersCummulativeA  revenueCummulativeA  \\\n",
              "0            59758                  23               142779   \n",
              "1           162043                  42               234381   \n",
              "2            67049                  66               346854   \n",
              "3            96890                  77               388030   \n",
              "4            89908                  99               474413   \n",
              "\n",
              "   ordersCummulativeB  revenueCummulativeB  visitorsPerDateA  \\\n",
              "0                  17                59758               719   \n",
              "1                  40               221801               619   \n",
              "2                  54               288850               507   \n",
              "3                  68               385740               717   \n",
              "4                  89               475648               756   \n",
              "\n",
              "   visitorsPerDateB  visitorsCummulativeA  visitorsCummulativeB  \n",
              "0               713                   719                   713  \n",
              "1               581                  1338                  1294  \n",
              "2               509                  1845                  1803  \n",
              "3               770                  2562                  2573  \n",
              "4               707                  3318                  3280  "
            ]
          },
          "metadata": {},
          "output_type": "display_data"
        }
      ],
      "source": [
        "visitorsADaily = visitors[visitors['group'] == 'A'][['date', 'visitors']]\n",
        "visitorsADaily.columns = ['date', 'visitorsPerDateA']\n",
        "\n",
        "visitorsACummulative = visitorsADaily.apply(\n",
        "    lambda x: visitorsADaily[visitorsADaily['date'] <= x['date']].agg(\n",
        "        {'date': 'max', 'visitorsPerDateA': 'sum'}), axis=1,)\n",
        "\n",
        "visitorsACummulative.columns = ['date', 'visitorsCummulativeA']\n",
        "\n",
        "visitorsBDaily = visitors[visitors['group'] == 'B'][['date', 'visitors']]\n",
        "visitorsBDaily.columns = ['date', 'visitorsPerDateB']\n",
        "\n",
        "visitorsBCummulative = visitorsBDaily.apply(\n",
        "    lambda x: visitorsBDaily[visitorsBDaily['date'] <= x['date']].agg(\n",
        "        {'date': 'max', 'visitorsPerDateB': 'sum'}), axis=1,)\n",
        "\n",
        "visitorsBCummulative.columns = ['date', 'visitorsCummulativeB']\n",
        "\n",
        "ordersADaily = (\n",
        "    orders[orders['group'] == 'A'][['date', 'transactionId', 'visitorId', 'revenue']]\n",
        "    .groupby('date', as_index=False)\n",
        "    .agg({'transactionId': pd.Series.nunique, 'revenue': 'sum'}))\n",
        "\n",
        "ordersADaily.columns = ['date', 'ordersPerDateA', 'revenuePerDateA']\n",
        "\n",
        "ordersACummulative = ordersADaily.apply(\n",
        "    lambda x: ordersADaily[ordersADaily['date'] <= x['date']].agg(\n",
        "        {'date': 'max', 'ordersPerDateA': 'sum', 'revenuePerDateA': 'sum'}), axis=1).sort_values(by=['date'])\n",
        "\n",
        "ordersACummulative.columns = ['date', 'ordersCummulativeA', 'revenueCummulativeA']\n",
        "\n",
        "ordersBDaily = (\n",
        "    orders[orders['group'] == 'B'][['date', 'transactionId', 'visitorId', 'revenue']]\n",
        "    .groupby('date', as_index=False)\n",
        "    .agg({'transactionId': pd.Series.nunique, 'revenue': 'sum'}))\n",
        "\n",
        "ordersBDaily.columns = ['date', 'ordersPerDateB', 'revenuePerDateB']\n",
        "\n",
        "ordersBCummulative = ordersBDaily.apply(\n",
        "    lambda x: ordersBDaily[ordersBDaily['date'] <= x['date']].agg(\n",
        "        {'date': 'max', 'ordersPerDateB': 'sum', 'revenuePerDateB': 'sum'}), axis=1).sort_values(by=['date'])\n",
        "\n",
        "ordersBCummulative.columns = ['date', 'ordersCummulativeB', 'revenueCummulativeB']\n",
        "\n",
        "data = (\n",
        "    ordersADaily.merge(ordersBDaily, left_on='date', right_on='date', how='left')\n",
        "    .merge(ordersACummulative, left_on='date', right_on='date', how='left')\n",
        "    .merge(ordersBCummulative, left_on='date', right_on='date', how='left')\n",
        "    .merge(visitorsADaily, left_on='date', right_on='date', how='left')\n",
        "    .merge(visitorsBDaily, left_on='date', right_on='date', how='left')\n",
        "    .merge(visitorsACummulative, left_on='date', right_on='date', how='left')\n",
        "    .merge(visitorsBCummulative, left_on='date', right_on='date', how='left'))\n",
        "\n",
        "display(data.head(5))"
      ]
    },
    {
      "cell_type": "markdown",
      "metadata": {
        "cellId": "takk3a52xin84s1pryry",
        "id": "Oq8tLMWvvz4f"
      },
      "source": [
        "Описание данных в таблице **data**:\n",
        "- `date` — дата;\n",
        "- `ordersPerDateA` — количество заказов в выбранную дату в группе A;\n",
        "- `revenuePerDateA` — суммарная выручка в выбранную дату в группе A;\n",
        "- `ordersPerDateB` — количество заказов в выбранную дату в группе B;\n",
        "- `revenuePerDateB` — суммарная выручка в выбранную дату в группе B;\n",
        "- `ordersCummulativeA` — суммарное число заказов до выбранной даты включительно в группе A;\n",
        "- `revenueCummulativeA` — суммарная выручка до выбранной даты включительно в группе A;\n",
        "- `ordersCummulativeB` — суммарное количество заказов до выбранной даты включительно в группе B;\n",
        "- `revenueCummulativeB` — суммарная выручка до выбранной даты включительно в группе B;\n",
        "- `visitorsPerDateA` — количество пользователей в выбранную дату в группе A;\n",
        "- `visitorsPerDateB` — количество пользователей в выбранную дату в группе B;\n",
        "- `visitorsCummulativeA` — количество пользователей до выбранной даты включительно в группе A;\n",
        "- `visitorsCummulativeB` — количество пользователей до выбранной даты включительно в группе B."
      ]
    },
    {
      "cell_type": "markdown",
      "metadata": {
        "cellId": "lm6u918awsxge4sqtsrps",
        "id": "jVE6h394vz4f"
      },
      "source": [
        "Создадим переменные **ordersByVisitorsA** и **ordersByVisitorsB** со столбцами `visitorId`, `orders`. В них для пользователей, которые заказывали хотя бы 1 раз, укажем число совершённых заказов."
      ]
    },
    {
      "cell_type": "code",
      "execution_count": null,
      "metadata": {
        "cellId": "7dp3dq4jrjewx4or4ikyoh",
        "id": "mNFVuXwZvz4f"
      },
      "outputs": [],
      "source": [
        "ordersByVisitorsA = (\n",
        "    orders[orders['group'] == 'A']\n",
        "    .groupby('visitorId', as_index=False)\n",
        "    .agg({'transactionId': pd.Series.nunique})\n",
        ")\n",
        "ordersByVisitorsA.columns = ['visitorId', 'orders']\n",
        "\n",
        "ordersByVisitorsB = (\n",
        "    orders[orders['group'] == 'B']\n",
        "    .groupby('visitorId', as_index=False)\n",
        "    .agg({'transactionId': pd.Series.nunique})\n",
        ")\n",
        "ordersByVisitorsB.columns = ['visitorId', 'orders'] "
      ]
    },
    {
      "cell_type": "markdown",
      "metadata": {
        "cellId": "8yk6c2lhggjyr0apvzg9x",
        "id": "BYEeoOIwvz4f"
      },
      "source": [
        "Объявим переменные **sampleA** и **sampleB**, в которых пользователям из разных групп будет соответствовать количество заказов"
      ]
    },
    {
      "cell_type": "code",
      "execution_count": null,
      "metadata": {
        "cellId": "uq5uyo7keaewllbjpqmtp7",
        "id": "LWkRRO8-vz4f"
      },
      "outputs": [],
      "source": [
        "sampleA = pd.concat([ordersByVisitorsA['orders'], pd.Series(0, index=np.arange(data['visitorsPerDateA'].sum() - len(ordersByVisitorsA['orders'])\n",
        "                                                                          ), name='orders')],axis=0)\n",
        "\n",
        "sampleB = pd.concat([ordersByVisitorsB['orders'], pd.Series(0, index=np.arange(data['visitorsPerDateB'].sum() - len(ordersByVisitorsB['orders'])\n",
        "                                                                          ), name='orders')],axis=0)"
      ]
    },
    {
      "cell_type": "markdown",
      "metadata": {
        "cellId": "nqxfgh4ubzcomkuvibbu",
        "id": "M4UxzsINvz4f"
      },
      "source": [
        "Рассчитаем статистическую значимость различий в конверсии между группами по «сырым» данным — без удаления аномальных пользователей.\\\n",
        "Выведем относительный прирост конверсии группы B.\\\n",
        "Сформулируем нулевую и альтернативную гипотезы:\n",
        "- $H_0$ — различий в конверсии групп A и B нет\n",
        "- $H_1$ — есть различия в конверсии групп A и B\n",
        "\n",
        "Критический уровень статистической значимости примем равным 5%\\\n",
        "alpha = 0.05"
      ]
    },
    {
      "cell_type": "code",
      "execution_count": null,
      "metadata": {
        "cellId": "33aoq0rk3glyw5vs8lq8at",
        "id": "J1UNUh7Evz4f",
        "outputId": "513606e7-6b56-4388-dc00-6260b1b3cff5"
      },
      "outputs": [
        {
          "name": "stdout",
          "output_type": "stream",
          "text": [
            "p-value: 0.006\n",
            "Относительный прирост конверсии группы B: 0.160\n"
          ]
        }
      ],
      "source": [
        "print('p-value: {0:.3f}'.format(stats.mannwhitneyu(sampleA, sampleB)[1]))\n",
        "\n",
        "print('Относительный прирост конверсии группы B: {0:.3f}'.format(sampleB.mean() / sampleA.mean() - 1))"
      ]
    },
    {
      "cell_type": "markdown",
      "metadata": {
        "cellId": "b00js7ezutegv4s2m206ws",
        "id": "kCw5s-QYvz4f"
      },
      "source": [
        "- P-value меньше 0.05, значит отвергаем нулевую гипотезу.\n",
        "- По «сырым» данным есть различия в конверсии групп A и B.\n",
        "- Относительный прирост конверсии группы B составил 16%."
      ]
    },
    {
      "cell_type": "markdown",
      "metadata": {
        "cellId": "4p8zf9z34uetwav7qm1tm",
        "id": "dt626o3uvz4f"
      },
      "source": [
        "Рассчитаем статистическую значимость различий в среднем чеке между группами по «сырым» данным.\\\n",
        "Найдём относительные различия в среднем чеке между группами.\\\n",
        "Сформулируем нулевую и альтернативную гипотезы:\n",
        "- $H_0$ — различий в среднем чеке групп A и B нет\n",
        "- $H_1$ — есть различия в среднем чеке групп A и B\n",
        "\n",
        "Критический уровень статистической значимости примем равным 5%\\\n",
        "alpha = 0.05"
      ]
    },
    {
      "cell_type": "code",
      "execution_count": null,
      "metadata": {
        "cellId": "4n34j3kfusxg5p7y1rzvpv",
        "id": "xJw_wUxKvz4f",
        "outputId": "ec0df3ce-013e-45ba-e14e-db60ffb91f99"
      },
      "outputs": [
        {
          "name": "stdout",
          "output_type": "stream",
          "text": [
            "p-value: 0.415\n",
            "Относительные различия в среднем чеке: 0.287\n"
          ]
        }
      ],
      "source": [
        "print('p-value: {0:.3f}'.format(stats.mannwhitneyu(orders[orders['group'] == 'A']['revenue'], orders[orders['group'] == 'B']['revenue'])[1]))\n",
        "\n",
        "print('Относительные различия в среднем чеке: {0:.3f}'\n",
        "      .format(orders[orders['group'] == 'B']['revenue'].mean() / orders[orders['group'] == 'A']['revenue'].mean() - 1))"
      ]
    },
    {
      "cell_type": "markdown",
      "metadata": {
        "cellId": "yx1mwb9791barwxpw12c49",
        "id": "7TjMj2Mavz4p"
      },
      "source": [
        "- P-value значительно больше 0.05.\n",
        "- Значит, причин отвергать нулевую гипотезу и считать, что в среднем чеке есть различия, нет, хотя средний чек группы B значительно выше среднего чека группы A. Скорее всего повлиял выброс со стоимостью заказа свыше 1200000 рублей.\n",
        "- Необходимо удалить аномальных пользователей и рассчитать показатели по очищеным данным."
      ]
    },
    {
      "cell_type": "markdown",
      "metadata": {
        "cellId": "h009howk63lh48ygi52lep",
        "id": "LirNV8invz4p"
      },
      "source": [
        "Узнаем, сколько всего аномальных пользователей"
      ]
    },
    {
      "cell_type": "code",
      "execution_count": null,
      "metadata": {
        "cellId": "r3fcvpcflrpmwwv3gy7rcj",
        "id": "eIBErTvRvz4p",
        "outputId": "a1f7af36-26bb-428d-f297-251e738c1e9a"
      },
      "outputs": [
        {
          "name": "stdout",
          "output_type": "stream",
          "text": [
            "937    148427295\n",
            "33     249864742\n",
            "58     611059232\n",
            "811    887908475\n",
            "632    888512513\n",
            "Name: visitorId, dtype: int64\n",
            "(16,)\n"
          ]
        }
      ],
      "source": [
        "usersWithManyOrders = pd.concat(\n",
        "    [ordersByVisitorsA[ordersByVisitorsA['orders'] > limit_number_orders]['visitorId'],\n",
        "        ordersByVisitorsB[ordersByVisitorsB['orders'] > limit_number_orders]['visitorId']], axis=0)\n",
        "\n",
        "usersWithExpensiveOrders = orders[orders['revenue'] > limit_cost_orders]['visitorId']\n",
        "\n",
        "abnormalUsers = (\n",
        "    pd.concat([usersWithManyOrders, usersWithExpensiveOrders], axis=0)\n",
        "    .drop_duplicates()\n",
        "    .sort_values()\n",
        ")\n",
        "\n",
        "print(abnormalUsers.head(5))\n",
        "print(abnormalUsers.shape)"
      ]
    },
    {
      "cell_type": "markdown",
      "metadata": {
        "cellId": "98o1cqoq9vmdjeh3qgnja",
        "id": "iDQjxg7Nvz4p"
      },
      "source": [
        "- 16 аномальных пользователей"
      ]
    },
    {
      "cell_type": "markdown",
      "metadata": {
        "cellId": "3nusvcjp9y5fx5b067jzd",
        "id": "BCrZfHx_vz4p"
      },
      "source": [
        "Объявим переменные **sampleAFiltered** и **sampleBFiltered**, в которых пользователям из разных групп будет соответствовать количество заказов, но без аномальных пользователей"
      ]
    },
    {
      "cell_type": "code",
      "execution_count": null,
      "metadata": {
        "cellId": "6egzajxdwrfoxzw6gyysua",
        "id": "YT4-nWOXvz4p"
      },
      "outputs": [],
      "source": [
        "sampleAFiltered = pd.concat([ordersByVisitorsA[np.logical_not(ordersByVisitorsA['visitorId'].isin(abnormalUsers))]['orders'], pd.Series(0,\n",
        "            index=np.arange(data['visitorsPerDateA'].sum() - len(ordersByVisitorsA['orders'])), name='orders')], axis=0)\n",
        "\n",
        "sampleBFiltered = pd.concat([ordersByVisitorsB[np.logical_not(ordersByVisitorsB['visitorId'].isin(abnormalUsers))]['orders'], pd.Series(0,\n",
        "            index=np.arange(data['visitorsPerDateB'].sum() - len(ordersByVisitorsB['orders'])), name='orders')], axis=0)"
      ]
    },
    {
      "cell_type": "markdown",
      "metadata": {
        "cellId": "xchace7gjrp1ec2dqdrmum",
        "id": "xiDPaYB2vz4p"
      },
      "source": [
        "Рассчитаем статистическую значимость различий в конверсии между группами по «очищенным» данным.\\\n",
        "Выведем относительный прирост конверсии группы B."
      ]
    },
    {
      "cell_type": "code",
      "execution_count": null,
      "metadata": {
        "cellId": "vmra68d84gr992g33n51m",
        "id": "YW4HujACvz4p",
        "outputId": "54a04131-d1e8-4de2-acf4-a8045c0fc836"
      },
      "outputs": [
        {
          "name": "stdout",
          "output_type": "stream",
          "text": [
            "p-value: 0.004\n",
            "Относительный прирост конверсии группы B: 0.189\n"
          ]
        }
      ],
      "source": [
        "print('p-value: {0:.3f}'.format(stats.mannwhitneyu(sampleAFiltered, sampleBFiltered)[1]))\n",
        "\n",
        "print('Относительный прирост конверсии группы B: {0:.3f}'.format(sampleBFiltered.mean() / sampleAFiltered.mean() - 1))"
      ]
    },
    {
      "cell_type": "markdown",
      "metadata": {
        "cellId": "p70a5djjq7h1o3x60axz",
        "id": "uw8CkR5avz4p"
      },
      "source": [
        "- P-value, по прежнему, меньше 0.05, значит отвергаем нулевую гипотезу.\n",
        "- Есть различия в конверсии групп A и B.\n",
        "- Относительный прирост конверсии группы B составил 18,9%."
      ]
    },
    {
      "cell_type": "markdown",
      "metadata": {
        "cellId": "vqzdsij3rnhmpuz2va9mhd",
        "id": "r7MaLz74vz4p"
      },
      "source": [
        "Рассчитаем статистическую значимость различий в среднем чеке между группами по «очищенным» данным.\\\n",
        "Найдём относительные различия в среднем чеке между группами."
      ]
    },
    {
      "cell_type": "code",
      "execution_count": null,
      "metadata": {
        "cellId": "eoga5shqekpj3w54ym8h7",
        "id": "zvdLuaWfvz4p",
        "outputId": "ea63377d-68f3-42df-d501-9e965d7996d6"
      },
      "outputs": [
        {
          "name": "stdout",
          "output_type": "stream",
          "text": [
            "p-value: 0.394\n",
            "Относительные различия в среднем чеке: -0.032\n"
          ]
        }
      ],
      "source": [
        "print('p-value: {0:.3f}'.format(stats.mannwhitneyu(orders[np.logical_and(orders['group'] == 'A',\n",
        "                    np.logical_not(orders['visitorId'].isin(abnormalUsers)))]['revenue'], orders[np.logical_and(orders['group'] == 'B',\n",
        "                    np.logical_not(orders['visitorId'].isin(abnormalUsers)))]['revenue'])[1]))\n",
        "\n",
        "print('Относительные различия в среднем чеке: {0:.3f}'.format(orders[np.logical_and(orders['group'] == 'B',\n",
        "                np.logical_not(orders['visitorId'].isin(abnormalUsers)))]['revenue'].mean() / orders[np.logical_and(orders['group'] == 'A',\n",
        "                np.logical_not(orders['visitorId'].isin(abnormalUsers)))]['revenue'].mean() - 1))"
      ]
    },
    {
      "cell_type": "markdown",
      "metadata": {
        "cellId": "qyzzyy07qkv8ujo6uxi6c",
        "id": "KtwrM71avz4p"
      },
      "source": [
        "- P-value, по прежнему, значительно больше 0.05.\n",
        "- Значит нет причин отвергать нулевую гипотезу.\n",
        "- Относительные различия в среднем чеке составили -3,2%\n",
        "- Нет статистически значимого различия по среднему чеку между группами"
      ]
    },
    {
      "cell_type": "markdown",
      "metadata": {
        "cellId": "52mk9oux5k53gzwucmlq3",
        "id": "nkmztoh2vz4z"
      },
      "source": [
        "## 4. Выводы"
      ]
    },
    {
      "cell_type": "markdown",
      "metadata": {
        "cellId": "twfundfdqiddshm4g8k5td",
        "id": "AOkoGvxZvz4z"
      },
      "source": [
        "- Есть статистически значимое различие по конверсии между группами по «сырым» и по «очищенным» данным.\n",
        "- График различия конверсии между группами сообщает, что результаты группы B лучше группы A: зафиксировались около среднего значения.\n",
        "- Нет статистически значимого различия по среднему чеку между группами ни по «сырым», ни по «очищенным» данным;\n",
        "- График различия среднего чека колеблется: он-то и позволил найти аномалии. Сделать из этого графика определённые выводы нельзя.\n",
        "- Исходя из обнаруженных фактов, тест следует остановить и признать его успешным. Конверсия группы В выше конверсии группы А."
      ]
    }
  ],
  "metadata": {
    "ExecuteTimeLog": [
      {
        "duration": 129,
        "start_time": "2022-03-20T05:07:52.959Z"
      }
    ],
    "kernelspec": {
      "display_name": "Python 3 (ipykernel)",
      "language": "python",
      "name": "python3"
    },
    "language_info": {
      "codemirror_mode": {
        "name": "ipython",
        "version": 3
      },
      "file_extension": ".py",
      "mimetype": "text/x-python",
      "name": "python",
      "nbconvert_exporter": "python",
      "pygments_lexer": "ipython3",
      "version": "3.9.5"
    },
    "notebookId": "b974df7a-0dfe-42b1-8693-8a62fcb1131d",
    "notebookPath": "4c295031-8a51-48aa-b574-9763938ba403.ipynb",
    "toc": {
      "base_numbering": 1,
      "nav_menu": {},
      "number_sections": true,
      "sideBar": true,
      "skip_h1_title": true,
      "title_cell": "Table of Contents",
      "title_sidebar": "Contents",
      "toc_cell": false,
      "toc_position": {},
      "toc_section_display": true,
      "toc_window_display": true
    },
    "colab": {
      "name": "decision_making_in_business_1.ipynb",
      "provenance": []
    }
  },
  "nbformat": 4,
  "nbformat_minor": 0
}